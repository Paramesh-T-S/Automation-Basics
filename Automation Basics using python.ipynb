{
 "cells": [
  {
   "cell_type": "markdown",
   "metadata": {},
   "source": [
    "# Automation Using Python"
   ]
  },
  {
   "cell_type": "markdown",
   "metadata": {},
   "source": [
    "Basic Python Code "
   ]
  },
  {
   "cell_type": "code",
   "execution_count": 1,
   "metadata": {},
   "outputs": [
    {
     "name": "stdout",
     "output_type": "stream",
     "text": [
      "Hello! What's ur name?\n",
      "Paramesh\n",
      "ParameshI am thinking of a number between 1 to 20 can u guess it\n",
      "Take a guess\n",
      "20\n",
      "Too high ! Try lesser\n",
      "Take a guess\n",
      "10\n",
      "Too high ! Try lesser\n",
      "Take a guess\n",
      "5\n",
      "Too low ! Try larger\n",
      "Take a guess\n",
      "7\n",
      "Too low ! Try larger\n",
      "Take a guess\n",
      "8\n",
      "Good Job Paramesh U guessed in 5 guesses\n"
     ]
    }
   ],
   "source": [
    "#First Program pythontutor.com - to visualize your py code\n",
    "#Guess The Number program that actually computer thinks \n",
    "\n",
    "import random\n",
    "print(\"Hello! What's ur name?\")\n",
    "name = input()\n",
    "print(name+'I am thinking of a number between 1 to 20 can u guess it')\n",
    "SecretNumber = random.randint(1,20)\n",
    "\n",
    "for guesstaken in range(1,7): #up to seven guesses\n",
    "    print('Take a guess')\n",
    "    guess = int(input())\n",
    "    if guess < SecretNumber :\n",
    "        print('Too low ! Try larger')\n",
    "    elif guess > SecretNumber:\n",
    "        print('Too high ! Try lesser')\n",
    "    else:\n",
    "        break \n",
    "\n",
    "if guess == SecretNumber:\n",
    "    print('Good Job '+name+' U guessed in ' + str(guesstaken)+' guesses')\n",
    "else:\n",
    "    print('Sorry u lost ur chance ! The actual guess is'+ str(SecretNumber))\n"
   ]
  },
  {
   "cell_type": "markdown",
   "metadata": {},
   "source": [
    "Regular Expression Basics"
   ]
  },
  {
   "cell_type": "markdown",
   "metadata": {},
   "source": [
    "1. Regular Expresssions are like keywords in a text\n",
    "2. Example : Find and replace , code number in phonenumber"
   ]
  },
  {
   "cell_type": "code",
   "execution_count": 2,
   "metadata": {},
   "outputs": [
    {
     "name": "stdout",
     "output_type": "stream",
     "text": [
      "Enter the Phone number\n",
      "455-245-4526\n",
      "True\n"
     ]
    }
   ],
   "source": [
    "'''Program to find whether the given input is a Phone number or not'''\n",
    "\n",
    "def isphonenumber(text):\n",
    "    if len(text)!=12:\n",
    "        return False\n",
    "    \n",
    "    for i in range(0,3):\n",
    "        if not text[i].isdecimal():\n",
    "            return False\n",
    "    if text[3]!='-':\n",
    "        return False\n",
    "    for i in range(4,7):\n",
    "        if not text[i].isdecimal():\n",
    "            return False\n",
    "    if text[7] !='-':\n",
    "        return False\n",
    "    for i in range(8, 12):\n",
    "        if not text[i].isdecimal():\n",
    "            return False\n",
    "    return True\n",
    "\n",
    "print('Enter the Phone number')  #Example input : 045-444-5678\n",
    "text = input()\n",
    "print(isphonenumber(text))"
   ]
  },
  {
   "cell_type": "markdown",
   "metadata": {},
   "source": [
    "Extracting the phone numbers from the given line or a sentence"
   ]
  },
  {
   "cell_type": "code",
   "execution_count": 3,
   "metadata": {},
   "outputs": [
    {
     "name": "stdout",
     "output_type": "stream",
     "text": [
      "Phone number found :452-333-1234\n",
      "Phone number found :234-555-1235\n"
     ]
    }
   ],
   "source": [
    "message = 'Hi My phone number is 452-333-1234 and an alternative is 234-555-1235'\n",
    "foundNumber = False   #Once we found the number we change in to true\n",
    "for i in range(len(message)):\n",
    "    chunk = message[i:i+12] #here 12 denotes the actual phone number size\n",
    "    if isphonenumber(chunk):\n",
    "        print(\"Phone number found :\"+chunk)\n",
    "        foundNumber = True\n",
    "if not foundNumber :\n",
    "    print('Could not found any numbers');\n",
    "        "
   ]
  },
  {
   "cell_type": "markdown",
   "metadata": {},
   "source": [
    "The above example is just a normal python program . Lets shorten it by using Regular Expression"
   ]
  },
  {
   "cell_type": "code",
   "execution_count": 4,
   "metadata": {},
   "outputs": [
    {
     "name": "stdout",
     "output_type": "stream",
     "text": [
      "452-333-1234\n",
      "['452-333-1234', '234-555-1235']\n"
     ]
    }
   ],
   "source": [
    "#Using Regular expression\n",
    "import re\n",
    "message_new = 'Hi My phone number is 452-333-1234 and an alternative is 234-555-1235'\n",
    "\n",
    "PhoneNumRegex = re.compile(r'\\d\\d\\d-\\d\\d\\d-\\d\\d\\d\\d') #Code to determine the pattern using regular Expression\n",
    "mo = PhoneNumRegex.search(message_new)    #mo - method object\n",
    "print(mo.group()) #To find single occurance \n",
    "\n",
    "# to find every occurance \n",
    "print(PhoneNumRegex.findall(message_new))"
   ]
  },
  {
   "cell_type": "markdown",
   "metadata": {},
   "source": [
    "Regex Groups and the Pipe Character "
   ]
  },
  {
   "cell_type": "code",
   "execution_count": 5,
   "metadata": {},
   "outputs": [
    {
     "name": "stdout",
     "output_type": "stream",
     "text": [
      "452\n",
      "333-1234\n"
     ]
    }
   ],
   "source": [
    "#Separating Phone number and code number \n",
    "import re\n",
    "message_new = 'Hi My phone number is 452-333-1234 and an alternative is 234-555-1235'\n",
    "PhoneNumRegex = re.compile(r'(\\d\\d\\d)-(\\d\\d\\d-\\d\\d\\d\\d)') #Code to determine the pattern using regular Expression\n",
    "mo = PhoneNumRegex.search(message_new)    #mo - method object\n",
    "print(mo.group(1)) #Code\n",
    "print(mo.group(2)) #Phone number"
   ]
  },
  {
   "cell_type": "code",
   "execution_count": 6,
   "metadata": {},
   "outputs": [
    {
     "data": {
      "text/plain": [
       "'Batman'"
      ]
     },
     "execution_count": 6,
     "metadata": {},
     "output_type": "execute_result"
    }
   ],
   "source": [
    "# | pipe character - use to separate words in a string\n",
    "\n",
    "batRegex = re.compile(r'Bat(man|mobile|copter|mask)')\n",
    "mo = batRegex.search('Batman from DC comics')\n",
    "mo.group()                    "
   ]
  },
  {
   "cell_type": "code",
   "execution_count": 7,
   "metadata": {},
   "outputs": [
    {
     "data": {
      "text/plain": [
       "'man'"
      ]
     },
     "execution_count": 7,
     "metadata": {},
     "output_type": "execute_result"
    }
   ],
   "source": [
    "#If mo cannot find it returns none \n",
    "mo.group(1)\n",
    "#mo.group(2)  #error group 2 is not found"
   ]
  },
  {
   "cell_type": "markdown",
   "metadata": {},
   "source": [
    "Repetition in Regex Patterns and Greedy/Nongreedy Matching"
   ]
  },
  {
   "cell_type": "code",
   "execution_count": 8,
   "metadata": {},
   "outputs": [
    {
     "data": {
      "text/plain": [
       "'Batman'"
      ]
     },
     "execution_count": 8,
     "metadata": {},
     "output_type": "execute_result"
    }
   ],
   "source": [
    "batRegex = re.compile(r'Bat(wo)?man')  #'wo' is optional\n",
    "mo = batRegex.search('Batman from DC comics')\n",
    "mo.group()   "
   ]
  },
  {
   "cell_type": "code",
   "execution_count": 9,
   "metadata": {},
   "outputs": [
    {
     "data": {
      "text/plain": [
       "'Batwoman'"
      ]
     },
     "execution_count": 9,
     "metadata": {},
     "output_type": "execute_result"
    }
   ],
   "source": [
    "batRegex = re.compile(r'Bat(wo)?man')\n",
    "mo = batRegex.search('Batwoman from DC comics')\n",
    "mo.group()   "
   ]
  },
  {
   "cell_type": "code",
   "execution_count": 10,
   "metadata": {},
   "outputs": [],
   "source": [
    "batRegex = re.compile(r'Bat(wo)?man')\n",
    "mo = batRegex.search('Batwowowoman from DC comics')\n",
    "#mo.group()       #returns AttributeError because it doesnot match"
   ]
  },
  {
   "cell_type": "code",
   "execution_count": 11,
   "metadata": {},
   "outputs": [
    {
     "name": "stdout",
     "output_type": "stream",
     "text": [
      "555-2345\n"
     ]
    }
   ],
   "source": [
    "#extracting the phone number with or without code number\n",
    "\n",
    "PhoneNumRegex = re.compile(r'(\\d\\d\\d-)?\\d\\d\\d-\\d\\d\\d\\d') #Code to determine the pattern using regular Expression\n",
    "mo = PhoneNumRegex.search('Hey my number is 555-2345')    #mo - method object\n",
    "print(mo.group())"
   ]
  },
  {
   "cell_type": "code",
   "execution_count": 12,
   "metadata": {},
   "outputs": [
    {
     "data": {
      "text/plain": [
       "'Batwowowoman'"
      ]
     },
     "execution_count": 12,
     "metadata": {},
     "output_type": "execute_result"
    }
   ],
   "source": [
    "# To extract a particular word exactly insert \\? within the string\n",
    "# * - zero or more time the string can appear \n",
    "batRegex = re.compile(r'Bat(wo)*man')\n",
    "mo = batRegex.search('Batwowowoman from DC comics')\n",
    "mo.group()  "
   ]
  },
  {
   "cell_type": "code",
   "execution_count": 13,
   "metadata": {},
   "outputs": [
    {
     "data": {
      "text/plain": [
       "'Batwowoman'"
      ]
     },
     "execution_count": 13,
     "metadata": {},
     "output_type": "execute_result"
    }
   ],
   "source": [
    "# + - one or more appearance i.e.Must appear only once\n",
    "batRegex = re.compile(r'Bat(wo)+man')\n",
    "mo = batRegex.search('Batwowoman from DC comics')\n",
    "mo.group()  "
   ]
  },
  {
   "cell_type": "code",
   "execution_count": 14,
   "metadata": {},
   "outputs": [
    {
     "data": {
      "text/plain": [
       "<re.Match object; span=(16, 19), match='+*?'>"
      ]
     },
     "execution_count": 14,
     "metadata": {},
     "output_type": "execute_result"
    }
   ],
   "source": [
    "# To include the operators with in the string literals\n",
    "\n",
    "regex = re.compile(r'\\+\\*\\?')\n",
    "regex.search('I learned about +*? regex syntax')"
   ]
  },
  {
   "cell_type": "code",
   "execution_count": 15,
   "metadata": {},
   "outputs": [
    {
     "data": {
      "text/plain": [
       "<re.Match object; span=(9, 15), match='HaHaHa'>"
      ]
     },
     "execution_count": 15,
     "metadata": {},
     "output_type": "execute_result"
    }
   ],
   "source": [
    "#To get the exact literal repetation {x}\n",
    "haRegex = re.compile(r'(Ha){3}')    # exactly 3 times of repetation\n",
    "haRegex.search('He said \"HaHaHa\"') "
   ]
  },
  {
   "cell_type": "code",
   "execution_count": 16,
   "metadata": {},
   "outputs": [],
   "source": [
    "# {3,5} atleast 3 atmost 5 repetations\n",
    "# By default always take the maximum string"
   ]
  },
  {
   "cell_type": "code",
   "execution_count": 17,
   "metadata": {},
   "outputs": [
    {
     "data": {
      "text/plain": [
       "<re.Match object; span=(0, 5), match='12345'>"
      ]
     },
     "execution_count": 17,
     "metadata": {},
     "output_type": "execute_result"
    }
   ],
   "source": [
    "# Example\n",
    "digitRegex = re.compile(r'(\\d){3,5}')\n",
    "digitRegex.search('1234567890')"
   ]
  },
  {
   "cell_type": "code",
   "execution_count": 18,
   "metadata": {},
   "outputs": [
    {
     "data": {
      "text/plain": [
       "<re.Match object; span=(0, 3), match='123'>"
      ]
     },
     "execution_count": 18,
     "metadata": {},
     "output_type": "execute_result"
    }
   ],
   "source": [
    "digitRegex = re.compile(r'(\\d){3,5}?')       #  {}? - returns the minimal range of string\n",
    "digitRegex.search('1234567890')"
   ]
  },
  {
   "cell_type": "markdown",
   "metadata": {},
   "source": [
    "Regex Character Classes and the findall() Method"
   ]
  },
  {
   "cell_type": "code",
   "execution_count": 19,
   "metadata": {},
   "outputs": [
    {
     "data": {
      "text/plain": [
       "['I', 'a', 'e', 'a', 'o', 'e']"
      ]
     },
     "execution_count": 19,
     "metadata": {},
     "output_type": "execute_result"
    }
   ],
   "source": [
    "#\\d - character class \n",
    "#Note : Refer Google for inbuilt Shorthand character class\n",
    "\n",
    "#We can create our own character class\n",
    "\n",
    "vowelRegex = re.compile(r'[aeiouAEIOU]') # i.e.(r'[a|e|i|o|u]'')\n",
    "vowelRegex.findall('I ate Mangoes')"
   ]
  },
  {
   "cell_type": "code",
   "execution_count": 20,
   "metadata": {},
   "outputs": [
    {
     "data": {
      "text/plain": [
       "[' ', 't', ' ', 'M', 'n', 'g', 's']"
      ]
     },
     "execution_count": 20,
     "metadata": {},
     "output_type": "execute_result"
    }
   ],
   "source": [
    "#Negative character class [^]\n",
    "vowelRegex = re.compile(r'[^aeiouAEIOU]') # i.e.(r'[a|e|i|o|u]'')\n",
    "vowelRegex.findall('I ate Mangoes')"
   ]
  },
  {
   "cell_type": "markdown",
   "metadata": {},
   "source": [
    "Regex Dot-Star and the Caret/Dollar Characters"
   ]
  },
  {
   "cell_type": "code",
   "execution_count": 21,
   "metadata": {},
   "outputs": [
    {
     "data": {
      "text/plain": [
       "<re.Match object; span=(0, 5), match='Hello'>"
      ]
     },
     "execution_count": 21,
     "metadata": {},
     "output_type": "execute_result"
    }
   ],
   "source": [
    "#caret/Dollar characters ^\n",
    "beginswithHelloRegex = re.compile(r'^Hello')\n",
    "beginswithHelloRegex.search('Hello There!')"
   ]
  },
  {
   "cell_type": "code",
   "execution_count": 22,
   "metadata": {},
   "outputs": [],
   "source": [
    "beginswithHelloRegex = re.compile(r'^Hello')\n",
    "#mo = beginswithHelloRegex.search('Hey Hello There!')\n",
    "#mo.group() #error because it doesnot starts with Hello"
   ]
  },
  {
   "cell_type": "code",
   "execution_count": 23,
   "metadata": {},
   "outputs": [
    {
     "data": {
      "text/plain": [
       "<re.Match object; span=(6, 11), match='World'>"
      ]
     },
     "execution_count": 23,
     "metadata": {},
     "output_type": "execute_result"
    }
   ],
   "source": [
    "endswithRegex = re.compile(r'World$')\n",
    "endswithRegex.search('Hello World')"
   ]
  },
  {
   "cell_type": "code",
   "execution_count": 24,
   "metadata": {},
   "outputs": [],
   "source": [
    "endswithRegex = re.compile(r'World$')\n",
    "#mo = endswithRegex.search('Hello World hey') returns error\n",
    "#mo.group()"
   ]
  },
  {
   "cell_type": "code",
   "execution_count": 25,
   "metadata": {},
   "outputs": [
    {
     "data": {
      "text/plain": [
       "['cat', 'mat', 'sat', 'lat']"
      ]
     },
     "execution_count": 25,
     "metadata": {},
     "output_type": "execute_result"
    }
   ],
   "source": [
    "#Dot character \n",
    "atRegex = re.compile(r'.at')\n",
    "atRegex.findall('The cat in the mat sat on her flat')\n"
   ]
  },
  {
   "cell_type": "code",
   "execution_count": 26,
   "metadata": {},
   "outputs": [
    {
     "data": {
      "text/plain": [
       "[' cat', ' mat', ' sat', 'flat']"
      ]
     },
     "execution_count": 26,
     "metadata": {},
     "output_type": "execute_result"
    }
   ],
   "source": [
    "atRegex = re.compile(r'.{1,2}at')\n",
    "atRegex.findall('The cat in the mat sat on her flat')"
   ]
  },
  {
   "cell_type": "code",
   "execution_count": 27,
   "metadata": {},
   "outputs": [
    {
     "data": {
      "text/plain": [
       "[('TS', 'Paramesh')]"
      ]
     },
     "execution_count": 27,
     "metadata": {},
     "output_type": "execute_result"
    }
   ],
   "source": [
    "# .* - any character \n",
    "sentence ='First name : TS and Last name : Paramesh'\n",
    "nameRegex = re.compile(r'First name : (.*) and Last name : (.*)')\n",
    "nameRegex.findall(sentence)"
   ]
  },
  {
   "cell_type": "code",
   "execution_count": 28,
   "metadata": {},
   "outputs": [
    {
     "data": {
      "text/plain": [
       "['To serve Humans']"
      ]
     },
     "execution_count": 28,
     "metadata": {},
     "output_type": "execute_result"
    }
   ],
   "source": [
    "#greedy fashion .*\n",
    "#Non greedy fashion .*? Looking for anything inbetween only\n",
    "\n",
    "serve = '<To serve Humans> for Dinner.>'\n",
    "nongreedy = re.compile(r'<(.*?)>')\n",
    "nongreedy.findall(serve)"
   ]
  },
  {
   "cell_type": "code",
   "execution_count": 29,
   "metadata": {},
   "outputs": [
    {
     "data": {
      "text/plain": [
       "['To serve Humans> for Dinner.']"
      ]
     },
     "execution_count": 29,
     "metadata": {},
     "output_type": "execute_result"
    }
   ],
   "source": [
    "greedy = re.compile(r'<(.*)>')\n",
    "greedy.findall(serve)"
   ]
  },
  {
   "cell_type": "code",
   "execution_count": 30,
   "metadata": {},
   "outputs": [
    {
     "data": {
      "text/plain": [
       "<re.Match object; span=(0, 17), match='Serve the public.'>"
      ]
     },
     "execution_count": 30,
     "metadata": {},
     "output_type": "execute_result"
    }
   ],
   "source": [
    "#What if in newline character \n",
    "prime = 'Serve the public.\\nProtect the inncoent.\\nHelp all'\n",
    "dotstar = re.compile(r'.*')\n",
    "dotstar.search(prime)"
   ]
  },
  {
   "cell_type": "code",
   "execution_count": 31,
   "metadata": {},
   "outputs": [
    {
     "data": {
      "text/plain": [
       "<re.Match object; span=(0, 48), match='Serve the public.\\nProtect the inncoent.\\nHelp al>"
      ]
     },
     "execution_count": 31,
     "metadata": {},
     "output_type": "execute_result"
    }
   ],
   "source": [
    "#re.DOTALL\n",
    "prime = 'Serve the public.\\nProtect the inncoent.\\nHelp all'\n",
    "dotstar = re.compile(r'.*',re.DOTALL)\n",
    "dotstar.search(prime)"
   ]
  },
  {
   "cell_type": "code",
   "execution_count": 32,
   "metadata": {},
   "outputs": [
    {
     "data": {
      "text/plain": [
       "['I', 'A', 'e', 'a', 'o', 'e']"
      ]
     },
     "execution_count": 32,
     "metadata": {},
     "output_type": "execute_result"
    }
   ],
   "source": [
    "vowelRegex = re.compile(r'[aeiou]',re.IGNORECASE) # i.e.(r'[a|e|i|o|u]'')\n",
    "vowelRegex.findall('I Ate Mangoes')"
   ]
  },
  {
   "cell_type": "markdown",
   "metadata": {},
   "source": [
    "Regex sub() Method"
   ]
  },
  {
   "cell_type": "code",
   "execution_count": 33,
   "metadata": {},
   "outputs": [
    {
     "data": {
      "text/plain": [
       "['Agent Alice', 'Agent Bob']"
      ]
     },
     "execution_count": 33,
     "metadata": {},
     "output_type": "execute_result"
    }
   ],
   "source": [
    "#We can also do find and Replace in Regular expressions also by using sub()\n",
    "\n",
    "nameRegex = re.compile(r'Agent \\w+')\n",
    "nameRegex.findall('Agent Alice gave the secret documents to Agent Bob.')\n"
   ]
  },
  {
   "cell_type": "code",
   "execution_count": 34,
   "metadata": {},
   "outputs": [
    {
     "data": {
      "text/plain": [
       "['A', 'B']"
      ]
     },
     "execution_count": 34,
     "metadata": {},
     "output_type": "execute_result"
    }
   ],
   "source": [
    "nameRegex = re.compile(r'Agent (\\w)\\w*')\n",
    "nameRegex.findall('Agent Alice gave the secret documents to Agent Bob.')\n"
   ]
  },
  {
   "cell_type": "code",
   "execution_count": 35,
   "metadata": {},
   "outputs": [
    {
     "data": {
      "text/plain": [
       "'Agent A***** gave the secret documents to Agent B*****.'"
      ]
     },
     "execution_count": 35,
     "metadata": {},
     "output_type": "execute_result"
    }
   ],
   "source": [
    "nameRegex.sub(r'Agent \\1*****', 'Agent Alice gave the secret documents to Agent Bob.')"
   ]
  },
  {
   "cell_type": "markdown",
   "metadata": {},
   "source": [
    "Verbose Mode - To neglect the awkard looking r'Agent (\\w)\\w*'"
   ]
  },
  {
   "cell_type": "code",
   "execution_count": 36,
   "metadata": {},
   "outputs": [
    {
     "data": {
      "text/plain": [
       "re.compile(r'(\\d\\d\\d-)   #area code      \\n\\d\\d\\d          #first 3 digits \\n-\\n\\d\\d\\d\\d     #last 4 digits ',\n",
       "re.IGNORECASE|re.DOTALL|re.UNICODE|re.VERBOSE)"
      ]
     },
     "execution_count": 36,
     "metadata": {},
     "output_type": "execute_result"
    }
   ],
   "source": [
    "# Example of Verbose mode - It allows to add comments inbetween them\n",
    "re.compile(r'''(\\d\\d\\d-)   #area code      \n",
    "\\d\\d\\d          #first 3 digits \n",
    "-\n",
    "\\d\\d\\d\\d     #last 4 digits ''',re.IGNORECASE | re.DOTALL | re.VERBOSE)\n",
    "\n"
   ]
  },
  {
   "cell_type": "code",
   "execution_count": null,
   "metadata": {},
   "outputs": [],
   "source": []
  }
 ],
 "metadata": {
  "kernelspec": {
   "display_name": "Python 3",
   "language": "python",
   "name": "python3"
  },
  "language_info": {
   "codemirror_mode": {
    "name": "ipython",
    "version": 3
   },
   "file_extension": ".py",
   "mimetype": "text/x-python",
   "name": "python",
   "nbconvert_exporter": "python",
   "pygments_lexer": "ipython3",
   "version": "3.7.0"
  }
 },
 "nbformat": 4,
 "nbformat_minor": 2
}
